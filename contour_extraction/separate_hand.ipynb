{
 "metadata": {
  "language_info": {
   "codemirror_mode": {
    "name": "ipython",
    "version": 3
   },
   "file_extension": ".py",
   "mimetype": "text/x-python",
   "name": "python",
   "nbconvert_exporter": "python",
   "pygments_lexer": "ipython3",
   "version": "3.8.3-final"
  },
  "orig_nbformat": 2,
  "kernelspec": {
   "name": "python38364bitbaseconda336b73efc3134ef394faa2b93a5616b2",
   "display_name": "Python 3.8.3 64-bit ('base': conda)"
  }
 },
 "nbformat": 4,
 "nbformat_minor": 2,
 "cells": [
  {
   "cell_type": "code",
   "execution_count": 1,
   "metadata": {},
   "outputs": [
    {
     "output_type": "stream",
     "name": "stdout",
     "text": [
      "Requirement already satisfied: imutils in /home/lincoln/anaconda3/lib/python3.8/site-packages (0.5.3)\n",
      "\u001b[33mWARNING: You are using pip version 20.2.4; however, version 20.3.1 is available.\n",
      "You should consider upgrading via the '/home/lincoln/anaconda3/bin/python -m pip install --upgrade pip' command.\u001b[0m\n"
     ]
    }
   ],
   "source": [
    "!pip install imutils\n",
    "import cv2\n",
    "import imutils\n",
    "import numpy as np\n"
   ]
  },
  {
   "cell_type": "code",
   "execution_count": 2,
   "metadata": {},
   "outputs": [],
   "source": [
    "bg= None"
   ]
  },
  {
   "cell_type": "code",
   "execution_count": 3,
   "metadata": {},
   "outputs": [],
   "source": [
    "def running_average(frame, weight):\n",
    "    global bg\n",
    "\n",
    "    if bg is None:\n",
    "        bg= frame.copy().astype('float')\n",
    "        return\n",
    "    \n",
    "    cv2.accumulateWeighted(frame, bg, weight)\n"
   ]
  },
  {
   "cell_type": "code",
   "execution_count": 4,
   "metadata": {},
   "outputs": [],
   "source": [
    "def segmented_picture(frame, threshold=25):\n",
    "    global bg\n",
    "\n",
    "    abs_diff= cv2.absdiff(bg.astype(\"uint8\"), frame)\n",
    "\n",
    "    thresholded = cv2.threshold(abs_diff, threshold, 255, cv2.THRESH_BINARY)[1]\n",
    "\n",
    "    cnts = cv2.findContours(thresholded.copy(), cv2.RETR_EXTERNAL, cv2.CHAIN_APPROX_SIMPLE)\n",
    "    contour= imutils.grab_contours(cnts)\n",
    "\n",
    "    if len(contour)==0:\n",
    "        return\n",
    "    else:\n",
    "        \n",
    "        segment= max(contour, key= cv2.contourArea)\n",
    "        return (thresholded, segment)"
   ]
  },
  {
   "cell_type": "code",
   "execution_count": 5,
   "metadata": {},
   "outputs": [],
   "source": [
    "if __name__== \"__main__\":\n",
    "    weight= 0.5\n",
    "\n",
    "    video_cap= cv2.VideoCapture(0)\n",
    "\n",
    "    num_frames= 0\n",
    "\n",
    "    top, right, bottom, left= 10, 350, 225, 590\n",
    "\n",
    "    while (video_cap.isOpened()):\n",
    "\n",
    "        ret, frame= video_cap.read()\n",
    "        if ret == True:\n",
    "\n",
    "            frame= imutils.resize(frame, width= 700)\n",
    "\n",
    "            frame= cv2.flip(frame, 1)\n",
    "\n",
    "            clone= frame.copy()\n",
    "\n",
    "            height, width= frame.shape[:2]\n",
    "\n",
    "            region= frame[top:bottom, right:left]\n",
    "\n",
    "\n",
    "            gray= cv2.cvtColor(region, cv2.COLOR_BGR2GRAY)\n",
    "\n",
    "            blur= cv2.GaussianBlur(gray, (5,5), 0)\n",
    "\n",
    "            if num_frames < 30:\n",
    "                running_average(blur, weight)\n",
    "\n",
    "            else:\n",
    "                hand = segmented_picture(blur)\n",
    "\n",
    "                if hand is not None:\n",
    "\n",
    "                    thresh, segment = hand\n",
    "\n",
    "\n",
    "                    cv2.drawContours(clone, [segment + (right, top)], -1, (0,0,255))\n",
    "\n",
    "                    cv2.imshow('Thresholded', thresh)\n",
    "\n",
    "            cv2.rectangle(clone, (left, top), (right, bottom), (0, 255, 0), 2)\n",
    "\n",
    "            num_frames +=1\n",
    "\n",
    "\n",
    "            cv2.imshow(\"Live Feed\", clone)\n",
    "\n",
    "            if cv2.waitKey(1) & 0xFF == 27:\n",
    "                break\n",
    "            \n",
    "\n",
    "\n",
    "\n",
    "video_cap.release()\n",
    "cv2.destroyAllWindows()\n",
    "\n",
    "            \n",
    "\n",
    "\n",
    "\n",
    "\n",
    "\n",
    "\n"
   ]
  }
 ]
}