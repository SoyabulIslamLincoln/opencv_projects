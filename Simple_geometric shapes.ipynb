{
 "metadata": {
  "language_info": {
   "codemirror_mode": {
    "name": "ipython",
    "version": 3
   },
   "file_extension": ".py",
   "mimetype": "text/x-python",
   "name": "python",
   "nbconvert_exporter": "python",
   "pygments_lexer": "ipython3",
   "version": "3.8.3-final"
  },
  "orig_nbformat": 2,
  "kernelspec": {
   "name": "python3",
   "display_name": "Python 3"
  }
 },
 "nbformat": 4,
 "nbformat_minor": 2,
 "cells": [
  {
   "cell_type": "code",
   "execution_count": 4,
   "metadata": {
    "tags": []
   },
   "outputs": [
    {
     "output_type": "stream",
     "name": "stdout",
     "text": "0.4405940594059406\n0.45408163265306123\n0.4405940594059406\n0.5897435897435898\n"
    }
   ],
   "source": [
    "import cv2\n",
    "import numpy as np\n",
    "\n",
    "img=cv2.imread(\"download.png\")\n",
    "img=cv2.resize(img,(512,512))\n",
    "gray=cv2.cvtColor(img, cv2.COLOR_BGR2GRAY)\n",
    "\n",
    "_, thresh= cv2.threshold(gray, 150, 255, cv2.THRESH_BINARY)\n",
    "\n",
    "contours, _= cv2.findContours(thresh, cv2.RETR_TREE, cv2.CHAIN_APPROX_NONE)\n",
    "\n",
    "for contour in contours:\n",
    "    approx=cv2.approxPolyDP(contour, 0.01* cv2.arcLength(contour, True), True)\n",
    "    cv2.drawContours(img, [approx], 0, (0,255,0), 3)\n",
    "    x=approx.ravel()[0]\n",
    "    y=approx.ravel()[1]\n",
    "    if len(approx) ==3:\n",
    "        cv2.putText(img, \"Triangle\",(x,y), cv2.FONT_HERSHEY_COMPLEX, 0.3, (0,0,0))\n",
    "\n",
    "    elif len(approx) ==4:\n",
    "        x,y,w,h= cv2.boundingRect(approx)\n",
    "        aspectRatio= float(w)/h\n",
    "        print(aspectRatio)\n",
    "        if aspectRatio >=0.95 and aspectRatio <=1.05:\n",
    "            cv2.putText(img, \"Square\",(x,y), cv2.FONT_HERSHEY_COMPLEX, 0.3, (0,0,0))\n",
    "        else:\n",
    "            cv2.putText(img, \"Rectangle\",(x,y), cv2.FONT_HERSHEY_COMPLEX, 0.3, (0,0,0))\n",
    "\n",
    "    elif len(approx) ==5:\n",
    "        cv2.putText(img, \"Pentagonal\",(x,y), cv2.FONT_HERSHEY_COMPLEX, 0.3, (0,0,0))\n",
    "\n",
    "    elif len(approx) ==6:\n",
    "        cv2.putText(img, \"Hexagonal\",(x,y), cv2.FONT_HERSHEY_COMPLEX, 0.3, (0,0,0))\n",
    "\n",
    "        \n",
    "    elif len(approx) ==8:\n",
    "        cv2.putText(img, \"OCTAGONAL\",(x,y), cv2.FONT_HERSHEY_COMPLEX, 0.3, (0,0,0))\n",
    "\n",
    "    elif len(approx) ==10:\n",
    "        cv2.putText(img, \"Star\",(x,y), cv2.FONT_HERSHEY_COMPLEX, 0.3, (0,0,0))\n",
    "    else:\n",
    "        cv2.putText(img, \"Triangle\",(x,y), cv2.FONT_HERSHEY_COMPLEX, 0.3, (0,0,0))\n",
    "\n",
    "\n",
    "cv2.imshow('shapes', img)\n",
    "cv2.waitKey(0)\n",
    "cv2.destroyAllWindows()"
   ]
  },
  {
   "cell_type": "code",
   "execution_count": null,
   "metadata": {},
   "outputs": [],
   "source": []
  }
 ]
}