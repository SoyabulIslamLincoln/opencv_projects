{
 "metadata": {
  "language_info": {
   "codemirror_mode": {
    "name": "ipython",
    "version": 3
   },
   "file_extension": ".py",
   "mimetype": "text/x-python",
   "name": "python",
   "nbconvert_exporter": "python",
   "pygments_lexer": "ipython3",
   "version": "3.8.3-final"
  },
  "orig_nbformat": 2,
  "kernelspec": {
   "name": "python38364bitbaseconda336b73efc3134ef394faa2b93a5616b2",
   "display_name": "Python 3.8.3 64-bit ('base': conda)"
  }
 },
 "nbformat": 4,
 "nbformat_minor": 2,
 "cells": [
  {
   "cell_type": "code",
   "execution_count": 1,
   "metadata": {},
   "outputs": [
    {
     "output_type": "stream",
     "name": "stdout",
     "text": [
      "Requirement already satisfied: imutils in /home/lincoln/anaconda3/lib/python3.8/site-packages (0.5.3)\n",
      "\u001b[33mWARNING: You are using pip version 20.2.4; however, version 20.3.1 is available.\n",
      "You should consider upgrading via the '/home/lincoln/anaconda3/bin/python -m pip install --upgrade pip' command.\u001b[0m\n"
     ]
    }
   ],
   "source": [
    "!pip install imutils\n",
    "import numpy as np\n",
    "import cv2\n",
    "import imutils\n"
   ]
  },
  {
   "cell_type": "code",
   "execution_count": 2,
   "metadata": {},
   "outputs": [],
   "source": [
    "cap= cv2.VideoCapture(0)\n",
    "\n",
    "while (cap.isOpened()):\n",
    "    ret, frame= cap.read()\n",
    "    if ret== True:\n",
    "        gray= cv2.cvtColor(frame, cv2.COLOR_BGR2GRAY)\n",
    "        blur= cv2.GaussianBlur(gray, (5,5), 0)\n",
    "        \n",
    "\n",
    "        thresh = cv2.threshold(blur, 50, 255, cv2.THRESH_BINARY_INV)[1]\n",
    "        thresh = cv2.erode(thresh, None, iterations=2)\n",
    "        thresh= cv2.dilate(thresh, None, iterations=2)\n",
    "\n",
    "        contour= cv2.findContours(thresh.copy(), cv2.RETR_EXTERNAL, cv2.CHAIN_APPROX_SIMPLE)\n",
    "        cnt= imutils.grab_contours(contour)\n",
    "        c=max(cnt, key= cv2.contourArea)\n",
    "        extLeft = tuple(c[c[:, :, 0].argmin()][0])\n",
    "        extRight = tuple(c[c[:, :, 0].argmax()][0])\n",
    "        extTop = tuple(c[c[:, :, 1].argmin()][0])\n",
    "        extBot = tuple(c[c[:, :, 1].argmax()][0])\n",
    "        cv2.drawContours(frame, [c], -1, (0, 255, 255), 2)\n",
    "        cv2.circle(frame, extLeft, 8, (0, 0, 255), -1)\n",
    "        cv2.circle(frame, extRight, 8, (0, 255, 0), -1)\n",
    "        cv2.circle(frame, extTop, 8, (255, 0, 0), -1)\n",
    "        cv2.circle(frame, extBot, 8, (255, 255, 0), -1)\n",
    "\n",
    "\n",
    "\n",
    "        cv2.imshow('Contour', frame)\n",
    "        #cv2.imshow('Real Image', frame)\n",
    "\n",
    "\n",
    "\n",
    "\n",
    "        if cv2.waitKey(1) & 0xFF == 27:\n",
    "            break\n",
    "    else:\n",
    "        break \n",
    "cap.release()\n",
    "\n",
    "cv2.destroyAllWindows()"
   ]
  },
  {
   "cell_type": "code",
   "execution_count": null,
   "metadata": {},
   "outputs": [],
   "source": []
  }
 ]
}