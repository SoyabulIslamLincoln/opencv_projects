{
 "metadata": {
  "language_info": {
   "codemirror_mode": {
    "name": "ipython",
    "version": 3
   },
   "file_extension": ".py",
   "mimetype": "text/x-python",
   "name": "python",
   "nbconvert_exporter": "python",
   "pygments_lexer": "ipython3",
   "version": "3.8.3-final"
  },
  "orig_nbformat": 2,
  "kernelspec": {
   "name": "python3",
   "display_name": "Python 3"
  }
 },
 "nbformat": 4,
 "nbformat_minor": 2,
 "cells": [
  {
   "cell_type": "code",
   "execution_count": 10,
   "metadata": {},
   "outputs": [],
   "source": [
    "import cv2\n",
    "\n",
    "cap=cv2.VideoCapture(\"street.mp4\")\n",
    "ret, frame1=cap.read()\n",
    "ret,frame2=cap.read()\n",
    "\n",
    "while cap.isOpened():\n",
    "    #ret,frame=cap.read()\n",
    "    diff= cv2.absdiff(frame1, frame2)\n",
    "    gray=cv2.cvtColor(diff, cv2.COLOR_BGR2GRAY)\n",
    "    blur=cv2.GaussianBlur(gray, (5,5), 0)\n",
    "    _, thresh= cv2.threshold(blur, 20, 255, cv2.THRESH_BINARY)\n",
    "    dilated=cv2.dilate(thresh, None, iterations=4)\n",
    "    contours, _= cv2.findContours(dilated, cv2.RETR_TREE, cv2.CHAIN_APPROX_SIMPLE)\n",
    "\n",
    "    #cv2.drawContours(frame1, contours, -1, (0, 0,255), 2)\n",
    "    for contour in contours:\n",
    "        (x,y,w,h)= cv2.boundingRect(contour)\n",
    "\n",
    "        if cv2.contourArea(contour)<900:\n",
    "            continue\n",
    "        cv2.rectangle(frame1, (x,y), (x+w,y+h), (0,255,255),2)\n",
    "        cv2.putText(frame1, 'Status: {}'.format(\"Movement\"), (10,20), cv2.FONT_HERSHEY_SIMPLEX, 1, (0,0,0),3)\n",
    "\n",
    "    cv2.imshow('WITH contours feed', frame1)\n",
    "\n",
    "    frame1=frame2\n",
    "    ret, frame2= cap.read()\n",
    "    if cv2.waitKey(100)==27:\n",
    "        break\n",
    "cv2.destroyAllWindows()\n",
    "cap.release()"
   ]
  },
  {
   "cell_type": "code",
   "execution_count": null,
   "metadata": {},
   "outputs": [],
   "source": []
  }
 ]
}