{
 "metadata": {
  "language_info": {
   "codemirror_mode": {
    "name": "ipython",
    "version": 3
   },
   "file_extension": ".py",
   "mimetype": "text/x-python",
   "name": "python",
   "nbconvert_exporter": "python",
   "pygments_lexer": "ipython3",
   "version": "3.8.3-final"
  },
  "orig_nbformat": 2,
  "kernelspec": {
   "name": "python38364bitbaseconda336b73efc3134ef394faa2b93a5616b2",
   "display_name": "Python 3.8.3 64-bit ('base': conda)"
  }
 },
 "nbformat": 4,
 "nbformat_minor": 2,
 "cells": [
  {
   "cell_type": "code",
   "execution_count": 7,
   "metadata": {},
   "outputs": [],
   "source": [
    "import cv2\n",
    "import numpy as np"
   ]
  },
  {
   "cell_type": "code",
   "execution_count": 8,
   "metadata": {},
   "outputs": [],
   "source": [
    "# capture video with the help of webcam\n",
    "vid_capture= cv2.VideoCapture(0)\n",
    "\n",
    "\n",
    "vid_writer= cv2.VideoWriter_fourcc(*'XVID') # write video to save in local disk\n",
    "\n",
    "# save the video in 'sketch.avi' file \n",
    "save= cv2.VideoWriter('sketch.avi', vid_writer, 20,0, (640, 480))\n",
    "def nothing(x):\n",
    "    pass\n",
    "\n",
    "cv2.namedWindow('sketch')\n",
    "\n",
    "\n",
    "#Create Trackbar to interface with the portal\n",
    "cv2.createTrackbar('noice','sketch',0,255,nothing)\n",
    "cv2.createTrackbar('deletion','sketch',0,255,nothing)\n",
    "\n",
    "while (vid_capture.isOpened()):\n",
    "    ret, frame= vid_capture.read()\n",
    "\n",
    "    if ret == True:\n",
    "        #convert BGR image to gray\n",
    "        gray_image= cv2.cvtColor(frame, cv2.COLOR_BGR2GRAY)\n",
    "        \n",
    "        \n",
    "        # Gaussian blur\n",
    "        blur= cv2.GaussianBlur(gray_image,(3,3), 0)\n",
    "\n",
    "\n",
    "        white= cv2.getTrackbarPos('noice', 'sketch')\n",
    "        dark= cv2.getTrackbarPos('deletion', 'sketch')\n",
    "\n",
    "        # Canny edge Detection\n",
    "        canny= cv2.Canny(blur, white, dark)\n",
    "        \n",
    "        save.write(canny)\n",
    "\n",
    "        ret, canny= cv2.threshold(canny, 40, 255, cv2.THRESH_BINARY_INV)\n",
    "\n",
    "\n",
    "        cv2.imshow('sketch', canny)\n",
    "        cv2.imshow('Real Image', frame)\n",
    "\n",
    "\n",
    "        if cv2.waitKey(1) & 0xFF == 27:\n",
    "            break\n",
    "    else:\n",
    "        break \n",
    "vid_capture.release()\n",
    "save.release()\n",
    "cv2.destroyAllWindows()"
   ]
  },
  {
   "cell_type": "code",
   "execution_count": null,
   "metadata": {},
   "outputs": [],
   "source": []
  }
 ]
}