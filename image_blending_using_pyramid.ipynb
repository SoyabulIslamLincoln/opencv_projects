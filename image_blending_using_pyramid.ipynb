{
 "metadata": {
  "language_info": {
   "codemirror_mode": {
    "name": "ipython",
    "version": 3
   },
   "file_extension": ".py",
   "mimetype": "text/x-python",
   "name": "python",
   "nbconvert_exporter": "python",
   "pygments_lexer": "ipython3",
   "version": "3.8.3-final"
  },
  "orig_nbformat": 2,
  "kernelspec": {
   "name": "python3",
   "display_name": "Python 3"
  }
 },
 "nbformat": 4,
 "nbformat_minor": 2,
 "cells": [
  {
   "cell_type": "code",
   "execution_count": 1,
   "metadata": {},
   "outputs": [],
   "source": [
    "import cv2\n",
    "import numpy as np"
   ]
  },
  {
   "cell_type": "code",
   "execution_count": 2,
   "metadata": {
    "tags": []
   },
   "outputs": [
    {
     "output_type": "stream",
     "name": "stdout",
     "text": "(512, 512, 3)\n(512, 512, 3)\n"
    }
   ],
   "source": [
    "dimsum= cv2.imread('dimsum.jpg')\n",
    "ronaldo=cv2.imread(\"index.jpeg\")\n",
    "dimsum= cv2.resize(dimsum, (512, 512))\n",
    "ronaldo= cv2.resize(ronaldo, (512, 512))\n",
    "print(dimsum.shape)\n",
    "print(ronaldo.shape)"
   ]
  },
  {
   "cell_type": "code",
   "execution_count": null,
   "metadata": {},
   "outputs": [],
   "source": [
    "dim_ron= np.hstack((ronaldo[:, :256], dimsum[:, 256:]))\n",
    "dimsum_copy= dimsum.copy()\n",
    "ronaldo_copy= ronaldo.copy()\n",
    "gp_dimsum=[dimsum_copy]\n",
    "for i in range(6):\n",
    "    dimsum_copy= cv2.pyrUp(dimsum_copy)\n",
    "    gp_dimsum.append(dimsum_copy)\n",
    "\n",
    "gp_ronaldo=[ronaldo_copy]\n",
    "for i in range(6):\n",
    "    ronaldo_copy= cv2.pyrUp(ronalso_copy)\n",
    "    gp_ronaldo.append(ronaldo_copy)\n",
    "\n",
    "\n",
    "dimsum_copy= gp_dimsum[5]\n",
    "lp_dimsum=[dimsum_copy]\n",
    "\n",
    "\n",
    "for i in range(5,0,-1):\n",
    "    gaussian_expanded= cv2.pyrUp(gp_dimsum[i])\n",
    "    laplacian=cv2.subtract(gp_dimsum[i-1], gaussian_expanded)\n",
    "    lp_dimsum.append(laplacian)\n",
    "\n",
    "ronaldo_copy= gp_ronaldo[5]\n",
    "lp_ronaldo=[ronaldo_copy]\n",
    "\n",
    "\n",
    "for i in range(5,0,-1):\n",
    "    gaussian_expanded= cv2.pyrUp(gp_ronaldo[i])\n",
    "    laplacian=cv2.subtract(gp_ronaldo[i-1], gaussian_expanded)\n",
    "    lp_ronaldo.append(laplacian)\n",
    "\n",
    "\n",
    "ron_dim_pyramid=[]\n",
    "n=0\n",
    "for dimsum_lap, ronaldo_lap in zip(lp_dimsum,lp_ronaldo):\n",
    "    n+=1\n",
    "    cols, rows, ch= dimsum_lap.shape\n",
    "    laplacian= np.hstack((dimsum_lap[:,o:int(cols/2)], ronaldo_lap[:, int(cols/2):]))\n",
    "    ron_dim_pyramid.append(laplacian)\n",
    "\n",
    "\n",
    "dim_ron_reconstruct= ron_dim_pyramid[0]\n",
    "for i in range(1,6):\n",
    "    dim_ron_reconstruct=cv2.pyrUp(dim_ron_reconstruct)\n",
    "    dim_ron_reconstruct= cv2.add(ron_dim_pyramid[i], dim_ron_reconstruct)\n",
    "\n",
    "\n",
    "\n",
    "cv2.imshow('dimsum', dimsum)\n",
    "cv2.imshow('ronaldo', ronaldo)\n",
    "cv2.imshow('Combined', dim_ron)\n",
    "cv2.waitKey(0)\n",
    "cv2.destroyAllWindows()\n",
    "\n"
   ]
  },
  {
   "cell_type": "code",
   "execution_count": null,
   "metadata": {},
   "outputs": [],
   "source": []
  }
 ]
}