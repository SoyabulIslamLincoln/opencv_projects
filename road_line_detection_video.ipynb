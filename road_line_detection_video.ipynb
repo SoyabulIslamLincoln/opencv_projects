{
 "metadata": {
  "language_info": {
   "codemirror_mode": {
    "name": "ipython",
    "version": 3
   },
   "file_extension": ".py",
   "mimetype": "text/x-python",
   "name": "python",
   "nbconvert_exporter": "python",
   "pygments_lexer": "ipython3",
   "version": "3.8.3-final"
  },
  "orig_nbformat": 2,
  "kernelspec": {
   "name": "python3",
   "display_name": "Python 3"
  }
 },
 "nbformat": 4,
 "nbformat_minor": 2,
 "cells": [
  {
   "cell_type": "code",
   "execution_count": null,
   "metadata": {},
   "outputs": [],
   "source": [
    "import matplotlib.pyplot as plt\n",
    "import numpy as np\n",
    "import cv2\n"
   ]
  },
  {
   "cell_type": "code",
   "execution_count": null,
   "metadata": {},
   "outputs": [],
   "source": [
    "def region_of_interest(img, vertices):\n",
    "    mask= np.zeros_like(img)\n",
    "    #channel_count=img.shape[2]\n",
    "    match_mask_color=255\n",
    "    cv2.fillPoly(mask, vertices, match_mask_color)\n",
    "    maske_image=cv2.bitwise_and(img, mask)\n",
    "    return maske_image\n",
    "\n",
    "def draw_the_lines(img, lines):\n",
    "    img=np.copy(img)\n",
    "    line_image=np.zeros((img.shape[0], img.shape[1], 3), dtype=np.uint8)\n",
    "    for line in lines:\n",
    "        for x1,y1,x2,y2 in line:\n",
    "            cv2.line(line_image, (x1,y1), (x2,y2), (0,255,0),thickness=3)\n",
    "\n",
    "    img=cv2.addWeighted(img, 0.8,line_image, 1,0.0)\n",
    "    return img\n",
    "def process(image):\n",
    "    print(img.shape)\n",
    "    height=img.shape[0]\n",
    "    width= img.shape[1]\n",
    "    region_of_interest_vertices=[(0, height), (width/2, height/2), (width, height)]\n",
    "    canny_image= cv2.Canny(gray, 100,200)\n",
    "    cropped_image= region_of_interest(canny_image,np.array([region_of_interest_vertices], np.int32),)\n",
    "    lines=cv2.HoughLinesP(cropped_image, rho=6, theta=np.pi/60, threshold= 150, lines=np.array([]), minLineLength=20, maxLineGap=30)\n",
    "    image_with_lines=draw_the_lines(img, lines)\n",
    "    return image_with_lines\n",
    "\n",
    "\n"
   ]
  },
  {
   "cell_type": "code",
   "execution_count": null,
   "metadata": {},
   "outputs": [],
   "source": [
    "cap=cv2.VideoCapture('driving.mp4')\n",
    "while(cap.isOpened()):\n",
    "    ret, frame=cap.read()\n",
    "    frame=process(frame)\n",
    "    cv2.imshow(frame)\n",
    "\n",
    "    if cv2.waitKey(1) & 0xFF==27:\n",
    "        break\n",
    "\n",
    "cap.release()\n",
    "cap.destroyAllWindows()"
   ]
  }
 ]
}