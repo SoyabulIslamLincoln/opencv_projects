{
 "metadata": {
  "language_info": {
   "codemirror_mode": {
    "name": "ipython",
    "version": 3
   },
   "file_extension": ".py",
   "mimetype": "text/x-python",
   "name": "python",
   "nbconvert_exporter": "python",
   "pygments_lexer": "ipython3",
   "version": "3.8.3-final"
  },
  "orig_nbformat": 2,
  "kernelspec": {
   "name": "python3",
   "display_name": "Python 3"
  }
 },
 "nbformat": 4,
 "nbformat_minor": 2,
 "cells": [
  {
   "cell_type": "code",
   "execution_count": 4,
   "metadata": {},
   "outputs": [],
   "source": [
    "import cv2\n",
    "import numpy as numpy\n",
    "img= cv2.imread('c41cd782b962e5ba758c9bb7104b9400.jpg', 0)\n",
    "_,th1= cv2.threshold(img, 120, 255, cv2.THRESH_BINARY)\n",
    "th2=cv2.adaptiveThreshold(img, 255, cv2.ADAPTIVE_THRESH_MEAN_C, cv2.THRESH_BINARY, 11, 2)\n",
    "th3= cv2.adaptiveThreshold(img, 255, cv2.ADAPTIVE_THRESH_GAUSSIAN_C, cv2.THRESH_BINARY, 11, 2)\n",
    "#_, th3=cv2.threshold(img, 120, 255, cv2.THRESH_TRUNC)\n",
    "#_, th4=cv2.threshold(img, 120, 255, cv2.THRESH_TOZERO)\n",
    "#_, th5=cv2.threshold(img, 120, 255, cv2.THRESH_TOZERO_INV)\n",
    "\n",
    "\n",
    "cv2.imshow(\"image\", img)\n",
    "cv2.imshow(\"thres\", th1)\n",
    "cv2.imshow(\"thresh_imv\", th2)\n",
    "cv2.imshow(\"THRESH_3\", th3)\n",
    "#cv2.imshow(\"THRESH_4\", th4)\n",
    "#cv2.imshow(\"THRESH_5\", th5)\n",
    "\n",
    "cv2.waitKey(0)\n",
    "cv2.destroyAllWindows()"
   ]
  },
  {
   "cell_type": "code",
   "execution_count": null,
   "metadata": {},
   "outputs": [],
   "source": []
  }
 ]
}