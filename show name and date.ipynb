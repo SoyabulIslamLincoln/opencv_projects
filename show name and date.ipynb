{
 "cells": [
  {
   "cell_type": "code",
   "execution_count": 11,
   "metadata": {},
   "outputs": [
    {
     "name": "stdout",
     "output_type": "stream",
     "text": [
      "640.0\n",
      "480.0\n",
      "640.0\n",
      "480.0\n"
     ]
    }
   ],
   "source": [
    "import cv2\n",
    "cap= cv2.VideoCapture(0)\n",
    "print(cap.get(cv2.CAP_PROP_FRAME_WIDTH))\n",
    "print(cap.get(cv2.CAP_PROP_FRAME_HEIGHT))\n",
    "#cap.set(3, 3000)\n",
    "#cap.set(4, 3000)\n",
    "#print(cap.get(3))\n",
    "#print(cap.get(4))\n",
    "while (cap.isOpened()):\n",
    "    ret, frame= cap.read()\n",
    "    if ret == True:\n",
    "        font=cv2.FONT_HERSHEY_SIMPLEX\n",
    "        text=\"Width: \"+ str(cap.get(3))+ \"Height: \"+ str(cap.get(4))\n",
    "        frame=cv2.putText(frame, text, (10,50), font, 1, (0,255, 50), 2)\n",
    "        #gray=cv2.cvtColor(frame, cv2.COLOR_BGR2GRAY)\n",
    "        cv2.imshow('frame', frame)\n",
    "        \n",
    "        if cv2.waitKey(500) & 0xFF == 27:\n",
    "            break\n",
    "    else:\n",
    "            break\n",
    "cap.release()\n",
    "cv2.destroyAllWindows()"
   ]
  },
  {
   "cell_type": "code",
   "execution_count": 12,
   "metadata": {},
   "outputs": [
    {
     "name": "stdout",
     "output_type": "stream",
     "text": [
      "640.0\n",
      "480.0\n"
     ]
    }
   ],
   "source": [
    "import cv2\n",
    "import datetime\n",
    "cap= cv2.VideoCapture(0)\n",
    "print(cap.get(cv2.CAP_PROP_FRAME_WIDTH))\n",
    "print(cap.get(cv2.CAP_PROP_FRAME_HEIGHT))\n",
    "#cap.set(3, 3000)\n",
    "#cap.set(4, 3000)\n",
    "#print(cap.get(3))\n",
    "#print(cap.get(4))\n",
    "while (cap.isOpened()):\n",
    "    ret, frame= cap.read()\n",
    "    if ret == True:\n",
    "        font=cv2.FONT_HERSHEY_SIMPLEX\n",
    "        text=\"Width: \"+ str(cap.get(3))+ \"Height: \"+ str(cap.get(4))\n",
    "        dat= str(datetime.datetime.now())\n",
    "        frame=cv2.putText(frame, dat, (10,50), font, 1, (0,255, 50), 2)\n",
    "        #gray=cv2.cvtColor(frame, cv2.COLOR_BGR2GRAY)\n",
    "        cv2.imshow('frame', frame)\n",
    "        \n",
    "        if cv2.waitKey(500) & 0xFF == 27:\n",
    "            break\n",
    "    else:\n",
    "            break\n",
    "cap.release()\n",
    "cv2.destroyAllWindows()"
   ]
  },
  {
   "cell_type": "code",
   "execution_count": null,
   "metadata": {},
   "outputs": [],
   "source": []
  }
 ],
 "metadata": {
  "kernelspec": {
   "display_name": "Python 3",
   "language": "python",
   "name": "python3"
  },
  "language_info": {
   "codemirror_mode": {
    "name": "ipython",
    "version": 3
   },
   "file_extension": ".py",
   "mimetype": "text/x-python",
   "name": "python",
   "nbconvert_exporter": "python",
   "pygments_lexer": "ipython3",
   "version": "3.7.6"
  }
 },
 "nbformat": 4,
 "nbformat_minor": 4
}
